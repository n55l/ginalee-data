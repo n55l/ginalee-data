{
  "nbformat": 4,
  "nbformat_minor": 0,
  "metadata": {
    "colab": {
      "provenance": []
    },
    "kernelspec": {
      "name": "python3",
      "display_name": "Python 3"
    },
    "language_info": {
      "name": "python"
    }
  },
  "cells": [
    {
      "cell_type": "code",
      "source": [
        "!apt-get update -qq > /dev/null\n",
        "!apt-get install openjdk-8-jdk-headless -qq > /dev/null\n",
        "!wget -q https://dlcdn.apache.org/spark/spark-3.2.3/spark-3.2.3-bin-hadoop2.7.tgz\n",
        "!tar xf spark-3.2.3-bin-hadoop2.7.tgz\n",
        "!pip install -q findspark\n",
        "\n",
        "import os\n",
        "os.environ[\"JAVA_HOME\"] = \"/usr/lib/jvm/java-8-openjdk-amd64\"\n",
        "os.environ[\"SPARK_HOME\"] = \"/content/spark-3.2.3-bin-hadoop2.7\"\n",
        "\n",
        "import findspark\n",
        "findspark.init()\n",
        "\n",
        "from pyspark import SparkContext, SparkConf\n",
        "from pyspark.streaming import StreamingContext\n",
        "import time\n",
        "\n",
        "# This function creates SparkContext and StreamingContext\n",
        "# Do not change this function\n",
        "def initStreamingContext():\n",
        "    try:\n",
        "      ssc.end()\n",
        "    except:\n",
        "      pass\n",
        "    finally:\n",
        "      spark_conf = SparkConf()\\\n",
        "            .setAppName(\"YourTest\")\\\n",
        "            .setMaster(\"local[*]\")\n",
        "      sc = SparkContext.getOrCreate(spark_conf)\n",
        "      # Creating Streaming Context with batch window size of 1 second\n",
        "      ssc = StreamingContext(sc, 1)\n",
        "      return ssc"
      ],
      "metadata": {
        "id": "mvVvU6WgpusM"
      },
      "execution_count": null,
      "outputs": []
    },
    {
      "cell_type": "code",
      "source": [
        "ssc = initStreamingContext()\n",
        "\n",
        "robotData = ssc.socketTextStream(\"datasci.cs.uwaterloo.ca\", 4321)\n",
        "robotData.pprint()\n",
        "ssc.start()\n",
        "\n",
        "time.sleep(5)\n",
        "ssc.stop()"
      ],
      "metadata": {
        "id": "LU4I_jwqgF0Q"
      },
      "execution_count": null,
      "outputs": []
    },
    {
      "cell_type": "code",
      "source": [
        "ssc = initStreamingContext()\n",
        "robotData = ssc.socketTextStream(\"datasci.cs.uwaterloo.ca\", 4321)\n",
        "\n",
        "result = robotData.map(lambda line: line.split(\",\")[:-1])\\\n",
        "                  .reduceByWindow(lambda x, y: x + y, None, 3,1)\\\n",
        "                  .map(lambda lst: min(lst))\\\n",
        "                  \n",
        "result.pprint()\n",
        "ssc.start()\n",
        "# Let's wait for 10 seconds before we stop the program.\n",
        "# Feel free to change this value but make sure you change it back to 10 before submission.\n",
        "time.sleep(10)\n",
        "ssc.stop()"
      ],
      "metadata": {
        "id": "0AwcXpd4gKdk"
      },
      "execution_count": null,
      "outputs": []
    },
    {
      "cell_type": "code",
      "source": [
        "def ratio(lst):\n",
        "  s = sum([i[1] for i in lst])\n",
        "\n",
        "  ratio_lst = [(i[0], i[1]/s) for i in lst]\n",
        "  return sorted(ratio_lst, key=lambda t: t[1],reverse=True) \n",
        "\n",
        "def println(rdd):\n",
        "  lst = rdd.collect()[0]\n",
        "  \n",
        "  for t in lst:\n",
        "    t = [str(i) for i in t]\n",
        "    s = \" \".join(t)\n",
        "    print(s)\n",
        "\n",
        "  print(\"----------\")\n",
        "\n",
        "\n",
        "\n",
        "ssc = initStreamingContext()\n",
        "robotData = ssc.socketTextStream(\"datasci.cs.uwaterloo.ca\", 4321)\n",
        "#### Your Solution to Question 2 here\n",
        "result = robotData.map(lambda line: (line.split(\",\")[-1],1))\\\n",
        "                  .reduceByKeyAndWindow(lambda x, y: x + y, None, 3,1)\\\n",
        "                  .map(lambda x: [x])\\\n",
        "                  .reduceByWindow(lambda x, y: x + y, None,1,1)\\\n",
        "                  .map(ratio)\\\n",
        "\n",
        "result.foreachRDD(println)\n",
        "\n",
        "ssc.start()\n",
        "# Let's wait for 10 seconds before we stop the program.\n",
        "# Feel free to change this value but make sure you change it back to 10 before submission.\n",
        "time.sleep(10)\n",
        "ssc.stop()"
      ],
      "metadata": {
        "id": "m2rRSGe4ttSY"
      },
      "execution_count": null,
      "outputs": []
    }
  ]
}